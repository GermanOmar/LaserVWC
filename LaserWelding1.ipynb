{
  "nbformat": 4,
  "nbformat_minor": 0,
  "metadata": {
    "accelerator": "GPU",
    "colab": {
      "name": "LaserWelding1.ipynb",
      "provenance": [],
      "collapsed_sections": [],
      "toc_visible": true,
      "mount_file_id": "https://github.com/GermanOmar/ANN1/blob/main/NN1_L2.ipynb",
      "authorship_tag": "ABX9TyNZ96d5pE9ETe/poN0dfET7",
      "include_colab_link": true
    },
    "kernelspec": {
      "display_name": "Python 3",
      "name": "python3"
    }
  },
  "cells": [
    {
      "cell_type": "markdown",
      "metadata": {
        "id": "view-in-github",
        "colab_type": "text"
      },
      "source": [
        "<a href=\"https://colab.research.google.com/github/GermanOmar/LaserVWC/blob/master/LaserWelding1.ipynb\" target=\"_parent\"><img src=\"https://colab.research.google.com/assets/colab-badge.svg\" alt=\"Open In Colab\"/></a>"
      ]
    },
    {
      "cell_type": "markdown",
      "metadata": {
        "id": "rqI9VDT0RdWk"
      },
      "source": [
        "# Mechanical vibration effect over the microhardness of AISI A36 steel in a lap configuration joints by laser welding\n"
      ]
    },
    {
      "cell_type": "markdown",
      "metadata": {
        "id": "2OOvQQeg7d0g"
      },
      "source": [
        "<a href=\"https://ibb.co/VH5s6tP\"><img src=\"https://i.ibb.co/PT0dkNf/LaserVWC.png\" WIDTH=\"420\" HEIGHT=\"300\"  border=\"0\"></a>"
      ]
    },
    {
      "cell_type": "markdown",
      "metadata": {
        "id": "3-T6Z2bdRvSm"
      },
      "source": [
        " Libraries"
      ]
    },
    {
      "cell_type": "code",
      "metadata": {
        "id": "ltCb1Iw6Raez"
      },
      "source": [
        "import numpy as np\n",
        "import pandas as pd\n",
        "from matplotlib import pyplot as plt\n",
        "from sklearn import preprocessing\n",
        "from sklearn.utils import shuffle\n",
        "import warnings\n",
        "warnings.filterwarnings(\"ignore\")"
      ],
      "execution_count": 2,
      "outputs": []
    },
    {
      "cell_type": "markdown",
      "metadata": {
        "id": "1Mbfb5c9yu5p"
      },
      "source": [
        " Upload database:"
      ]
    },
    {
      "cell_type": "code",
      "metadata": {
        "colab": {
          "base_uri": "https://localhost:8080/"
        },
        "id": "_V3jfdhPsEKW",
        "outputId": "09ac7846-e06d-4007-bf4c-cc46e54d8c1b"
      },
      "source": [
        "!git clone https://github.com/GermanOmar/LaserVWC"
      ],
      "execution_count": 3,
      "outputs": [
        {
          "output_type": "stream",
          "text": [
            "Cloning into 'LaserVWC'...\n",
            "remote: Enumerating objects: 6, done.\u001b[K\n",
            "remote: Counting objects: 100% (6/6), done.\u001b[K\n",
            "remote: Compressing objects: 100% (4/4), done.\u001b[K\n",
            "remote: Total 6 (delta 0), reused 0 (delta 0), pack-reused 0\u001b[K\n",
            "Unpacking objects: 100% (6/6), done.\n"
          ],
          "name": "stdout"
        }
      ]
    },
    {
      "cell_type": "code",
      "metadata": {
        "colab": {
          "base_uri": "https://localhost:8080/",
          "height": 284
        },
        "id": "Yx-ovik8xxJx",
        "outputId": "26335102-29c5-4a72-ad39-221cc0d345d8"
      },
      "source": [
        "#Experimental data\n",
        "data = pd.read_table('Df.txt') \n",
        "data.describe()\n"
      ],
      "execution_count": 4,
      "outputs": [
        {
          "output_type": "execute_result",
          "data": {
            "text/html": [
              "<div>\n",
              "<style scoped>\n",
              "    .dataframe tbody tr th:only-of-type {\n",
              "        vertical-align: middle;\n",
              "    }\n",
              "\n",
              "    .dataframe tbody tr th {\n",
              "        vertical-align: top;\n",
              "    }\n",
              "\n",
              "    .dataframe thead th {\n",
              "        text-align: right;\n",
              "    }\n",
              "</style>\n",
              "<table border=\"1\" class=\"dataframe\">\n",
              "  <thead>\n",
              "    <tr style=\"text-align: right;\">\n",
              "      <th></th>\n",
              "      <th>Amplitude</th>\n",
              "      <th>Frequency</th>\n",
              "      <th>Hardness</th>\n",
              "    </tr>\n",
              "  </thead>\n",
              "  <tbody>\n",
              "    <tr>\n",
              "      <th>count</th>\n",
              "      <td>44.000000</td>\n",
              "      <td>44.000000</td>\n",
              "      <td>44.000000</td>\n",
              "    </tr>\n",
              "    <tr>\n",
              "      <th>mean</th>\n",
              "      <td>0.394545</td>\n",
              "      <td>523.401818</td>\n",
              "      <td>167.522727</td>\n",
              "    </tr>\n",
              "    <tr>\n",
              "      <th>std</th>\n",
              "      <td>0.131847</td>\n",
              "      <td>379.779496</td>\n",
              "      <td>13.599741</td>\n",
              "    </tr>\n",
              "    <tr>\n",
              "      <th>min</th>\n",
              "      <td>0.200000</td>\n",
              "      <td>0.000000</td>\n",
              "      <td>143.000000</td>\n",
              "    </tr>\n",
              "    <tr>\n",
              "      <th>25%</th>\n",
              "      <td>0.280000</td>\n",
              "      <td>210.082500</td>\n",
              "      <td>158.500000</td>\n",
              "    </tr>\n",
              "    <tr>\n",
              "      <th>50%</th>\n",
              "      <td>0.400000</td>\n",
              "      <td>585.690000</td>\n",
              "      <td>169.000000</td>\n",
              "    </tr>\n",
              "    <tr>\n",
              "      <th>75%</th>\n",
              "      <td>0.480000</td>\n",
              "      <td>831.985000</td>\n",
              "      <td>177.250000</td>\n",
              "    </tr>\n",
              "    <tr>\n",
              "      <th>max</th>\n",
              "      <td>0.560000</td>\n",
              "      <td>1034.510000</td>\n",
              "      <td>197.000000</td>\n",
              "    </tr>\n",
              "  </tbody>\n",
              "</table>\n",
              "</div>"
            ],
            "text/plain": [
              "       Amplitude    Frequency    Hardness\n",
              "count  44.000000    44.000000   44.000000\n",
              "mean    0.394545   523.401818  167.522727\n",
              "std     0.131847   379.779496   13.599741\n",
              "min     0.200000     0.000000  143.000000\n",
              "25%     0.280000   210.082500  158.500000\n",
              "50%     0.400000   585.690000  169.000000\n",
              "75%     0.480000   831.985000  177.250000\n",
              "max     0.560000  1034.510000  197.000000"
            ]
          },
          "metadata": {
            "tags": []
          },
          "execution_count": 4
        }
      ]
    },
    {
      "cell_type": "markdown",
      "metadata": {
        "id": "a8Tc7T1_ibFN"
      },
      "source": [
        "<a href=\"https://ibb.co/cgFcLwg\"><img src=\"https://i.ibb.co/JB7RQqB/Contour-Plot.png\" WIDTH=\"500\" HEIGHT=\"325\"  border=\"0\"></a>"
      ]
    },
    {
      "cell_type": "markdown",
      "metadata": {
        "id": "lFVoj9tfSQJJ"
      },
      "source": [
        "\n",
        "Setting inputs - output:"
      ]
    },
    {
      "cell_type": "code",
      "metadata": {
        "colab": {
          "base_uri": "https://localhost:8080/",
          "height": 218
        },
        "id": "j4RPoTbW_VVs",
        "outputId": "51625e62-ee7d-4aea-a02e-9f2102821f6c"
      },
      "source": [
        "fields = [ 'Amplitude',  'Frequency','Hardness']\n",
        "import seaborn as sns\n",
        "sns.set()\n",
        "\n",
        "fig = plt.figure()\n",
        "fig.set_size_inches((12,8))\n",
        "for i, field in enumerate(fields):\n",
        "  plt.subplot(3, 3, i + 1)\n",
        "  plt.plot(data[field], data['Hardness'], 'r*')\n",
        "  plt.xlabel(field)\n",
        "  plt.ylabel('Hardness')\n",
        "\n",
        "plt.tight_layout()\n",
        "\n",
        "X=data[[ 'Amplitude',  'Frequency']]\n",
        "Y=data['Hardness'][:,None]\n",
        "\n",
        "\n",
        "#fig.tight_layout()"
      ],
      "execution_count": 6,
      "outputs": [
        {
          "output_type": "display_data",
          "data": {
            "image/png": "[encoded data removed]",
            "text/plain": [
              "<Figure size 864x576 with 3 Axes>"
            ]
          },
          "metadata": {
            "tags": []
          }
        }
      ]
    },
    {
      "cell_type": "code",
      "metadata": {
        "colab": {
          "base_uri": "https://localhost:8080/",
          "height": 730
        },
        "id": "SVvdbKrdZIj5",
        "outputId": "42d4b3fb-9fcb-4502-b7a5-ef2f86e972ef"
      },
      "source": [
        "from pandas.plotting import scatter_matrix\n",
        "\n",
        "#DISPLAY MATRIX - identificar correlacion entre variables\n",
        "scatter_matrix(data, alpha=0.8, marker='o', figsize = (12,12))\n",
        "\n",
        "import warnings\n",
        "warnings.filterwarnings(\"ignore\")"
      ],
      "execution_count": 7,
      "outputs": [
        {
          "output_type": "display_data",
          "data": {
            "image/png": "[encoded data removed]",
            "text/plain": [
              "<Figure size 864x864 with 9 Axes>"
            ]
          },
          "metadata": {
            "tags": []
          }
        }
      ]
    },
    {
      "cell_type": "markdown",
      "metadata": {
        "id": "7o8zckSzFI7O"
      },
      "source": [
        "Normalizing\n"
      ]
    },
    {
      "cell_type": "code",
      "metadata": {
        "id": "N9C38QmsAXm-"
      },
      "source": [
        "def normalize(X, X_mu, X_std):\n",
        "  return (X - X_mu)/X_std\n",
        "\n",
        "def denormalize(Xn, X_mu, X_std):\n",
        "  return Xn*X_std + X_mu\n",
        "\n",
        "X_std = X.std(0)\n",
        "X_mu = X.mean(0)\n",
        "Xn = normalize(X, X_mu, X_std)\n",
        "\n",
        "Y_std = Y.std(0)\n",
        "Y_mu = Y.mean(0)\n",
        "Yn = normalize(Y, Y_mu, Y_std)"
      ],
      "execution_count": 8,
      "outputs": []
    },
    {
      "cell_type": "markdown",
      "metadata": {
        "id": "Q6pAiesfTDDU"
      },
      "source": [
        " Split data"
      ]
    },
    {
      "cell_type": "code",
      "metadata": {
        "colab": {
          "base_uri": "https://localhost:8080/"
        },
        "id": "HI3IlTeHTF_Z",
        "outputId": "8598826c-c01d-438d-9c18-66f91d5e4c5f"
      },
      "source": [
        "from sklearn.model_selection import train_test_split\n",
        "\n",
        "X_train, X_test, y_train, y_test = train_test_split(Xn, Yn, test_size=0.2, random_state=1234)\n",
        "print('training samples:', X_train.shape[0],  ' test samples:', X_test.shape[0])"
      ],
      "execution_count": 49,
      "outputs": [
        {
          "output_type": "stream",
          "text": [
            "training samples: 35  test samples: 9\n"
          ],
          "name": "stdout"
        }
      ]
    },
    {
      "cell_type": "markdown",
      "metadata": {
        "id": "7Zk7lMoGhdFO"
      },
      "source": [
        "#Results:"
      ]
    },
    {
      "cell_type": "markdown",
      "metadata": {
        "id": "NL8FawXuyV0d"
      },
      "source": [
        "###GBR "
      ]
    },
    {
      "cell_type": "code",
      "metadata": {
        "colab": {
          "base_uri": "https://localhost:8080/"
        },
        "id": "cGJU9U3RouUl",
        "outputId": "9ee05aef-d1f2-45e6-e001-b988ab3f5757"
      },
      "source": [
        "from sklearn.ensemble import GradientBoostingRegressor\n",
        "#KERNEL\n",
        "#GBR=GradientBoostingRegressor(n_estimators=100, random_state=0)\n",
        "GBR=GradientBoostingRegressor(n_estimators=2000, random_state=32, learning_rate=0.1 )\n",
        "\n",
        "#START TRAINING\n",
        "GBR.fit(X_train,y_train)\n",
        "#PREDICTION\n",
        "y_pred=GBR.predict(X_test)\n",
        "\n",
        "#EVAL\n",
        "from sklearn.metrics import mean_squared_error as MSE\n",
        "MSE_test = MSE(y_test, y_pred)\n",
        "\n",
        " \n",
        "print(\"-Gradient boosting regressor-\")\n",
        "print(\"-----------------------------\")\n",
        "\n",
        "print('MSE test:', MSE_test)\n",
        "\n",
        "print()\n",
        "\n",
        "from sklearn.metrics import r2_score\n",
        "from sklearn.metrics import mean_absolute_error as MAE \n",
        "\n",
        "#METRICS: R2, RMSE, MAE\n",
        "R2=r2_score(y_test, y_pred)\n",
        "print('R2: ',R2)\n",
        "RMSE = np.sqrt(MSE_test)\n",
        "print(\"RMSE: \", RMSE)\n",
        "MAE = MAE(y_test, y_pred)\n",
        "print(\"MAE: \", MAE)\n",
        "IM=np.sqrt(((1-R2)**2) + (RMSE**2) + (MAE**2) )\n",
        "print(\"IM: \", IM)\n",
        "print()\n"
      ],
      "execution_count": 50,
      "outputs": [
        {
          "output_type": "stream",
          "text": [
            "-Gradient boosting regressor-\n",
            "-----------------------------\n",
            "MSE test: 0.780238897890662\n",
            "\n",
            "R2:  0.47628598936365407\n",
            "RMSE:  0.8833113255759047\n",
            "MAE:  0.7148831579712221\n",
            "IM:  1.2512286730963194\n",
            "\n"
          ],
          "name": "stdout"
        }
      ]
    },
    {
      "cell_type": "markdown",
      "metadata": {
        "id": "IVHzaa4EkSPe"
      },
      "source": [
        "### GPs"
      ]
    },
    {
      "cell_type": "code",
      "metadata": {
        "colab": {
          "base_uri": "https://localhost:8080/"
        },
        "id": "abeE5km2aix5",
        "outputId": "12a5b95e-f5d1-4ef8-d0c5-828ceaec46fb"
      },
      "source": [
        "from sklearn.gaussian_process import GaussianProcessRegressor as GPR\n",
        "from sklearn.gaussian_process.kernels import RBF, ConstantKernel as C\n",
        "kernel = C(1.0, (1e-3, 1e3)) * RBF(10, (1e-2, 1e2))\n",
        " \n",
        "GP=GPR(kernel=kernel, n_restarts_optimizer=20, alpha=0.01, normalize_y=True)\n",
        " \n",
        "#Training\n",
        "GP.fit(X_train,y_train)\n",
        " \n",
        "#Testing\n",
        "y_star_train = GP.predict(X_train)\n",
        "y_pred = GP.predict(X_test)\n",
        " \n",
        "from sklearn.metrics import mean_squared_error\n",
        "MSE_test = mean_squared_error(y_test, y_pred)\n",
        "MSE_train = mean_squared_error(y_train, y_star_train)\n",
        " \n",
        "print(\"Gaussian Process\")\n",
        "print('MSE train:', MSE_train)\n",
        "print('MSE test:', MSE_test)\n",
        "print(\"MSE train < MSE test?\", MSE_train < MSE_test)\n",
        "print()\n",
        "from sklearn.metrics import r2_score\n",
        "R2_train=r2_score(y_train, y_star_train)\n",
        "print('R2_train: ',R2_train)\n",
        "R2_test=r2_score(y_test, y_pred)\n",
        "print('R2_test: ',R2_test)\n",
        "print()\n",
        "\"\"\" \n",
        "RE=100 * abs(y_test - y_pred) / y_test\n",
        "print('Relative error (%): ',RE)\n",
        "\"\"\"\n",
        "from sklearn.metrics import r2_score\n",
        "from sklearn.metrics import mean_absolute_error as MAE \n",
        "#METRICS: R2, RMSE, MAE\n",
        "R2=r2_score(y_test, y_pred)\n",
        "print('R2: ',R2)\n",
        "RMSE = np.sqrt(MSE_test)\n",
        "print(\"RMSE: \", RMSE)\n",
        "MAE = MAE(y_test, y_pred)\n",
        "print(\"MAE: \", MAE)\n",
        "IM=np.sqrt(((1-R2)**2) + (RMSE**2) + (MAE**2) )\n",
        "print(\"IM: \", IM)\n",
        "print()"
      ],
      "execution_count": 51,
      "outputs": [
        {
          "output_type": "stream",
          "text": [
            "Gaussian Process\n",
            "MSE train: 0.08759408479953841\n",
            "MSE test: 0.781733064382588\n",
            "MSE train < MSE test? True\n",
            "\n",
            "R2_train:  0.8968958729534229\n",
            "R2_test:  0.47528307099062683\n",
            "\n",
            "R2:  0.47528307099062683\n",
            "RMSE:  0.884156696735702\n",
            "MAE:  0.7179293899848727\n",
            "IM:  1.2539870529537642\n",
            "\n"
          ],
          "name": "stdout"
        }
      ]
    },
    {
      "cell_type": "markdown",
      "metadata": {
        "id": "4kmdzayWwhA9"
      },
      "source": [
        "### RFR"
      ]
    },
    {
      "cell_type": "code",
      "metadata": {
        "colab": {
          "base_uri": "https://localhost:8080/"
        },
        "id": "6kLJ0SSekfuI",
        "outputId": "5dbf885b-a6f7-49db-934c-a6a212feb50d"
      },
      "source": [
        "from sklearn.ensemble import RandomForestRegressor\n",
        "#KERNEL\n",
        "RFR=RandomForestRegressor(n_estimators=2000,max_depth=20)\n",
        "\n",
        "#START TRAINING\n",
        "RFR.fit(X_train,y_train)\n",
        "#PREDICTION\n",
        "y_pred=RFR.predict(X_test)\n",
        "\n",
        "#EVAL\n",
        "from sklearn.metrics import mean_squared_error as MSE\n",
        "MSE_test = MSE(y_test, y_pred)\n",
        "\n",
        "print(\"-----------------------------\")\n",
        "\n",
        "print('MSE test:', MSE_test)\n",
        "\n",
        "print()\n",
        "\n",
        "from sklearn.metrics import r2_score\n",
        "from sklearn.metrics import mean_absolute_error as MAE \n",
        "\n",
        "#METRICS: R2, RMSE, MAE\n",
        "R2=r2_score(y_test, y_pred)\n",
        "print('R2: ',R2)\n",
        "RMSE = np.sqrt(MSE_test)\n",
        "print(\"RMSE: \", RMSE)\n",
        "MAE = MAE(y_test, y_pred)\n",
        "print(\"MAE: \", MAE)\n",
        "IM=np.sqrt(((1-R2)**2) + (RMSE**2) + (MAE**2) )\n",
        "print(\"IM: \", IM)\n",
        "print()"
      ],
      "execution_count": 52,
      "outputs": [
        {
          "output_type": "stream",
          "text": [
            "-----------------------------\n",
            "MSE test: 0.6206676520871002\n",
            "\n",
            "R2:  0.583393821782607\n",
            "RMSE:  0.787824632825796\n",
            "MAE:  0.6691404155728541\n",
            "IM:  1.114440332888672\n",
            "\n"
          ],
          "name": "stdout"
        }
      ]
    },
    {
      "cell_type": "markdown",
      "metadata": {
        "id": "hkMQ_W07zri6"
      },
      "source": [
        "### XGB"
      ]
    },
    {
      "cell_type": "code",
      "metadata": {
        "id": "rLTTuAFyzJeP"
      },
      "source": [
        "import pickle\n",
        "import xgboost as xgb\n",
        "\n",
        "xgbr = xgb.XGBRegressor(verbosity=0, n_estimators=2000, max_depth=20)\n",
        "xgbr.fit(X_train, y_train)\n",
        "y_pred = xgbr.predict(X_test)"
      ],
      "execution_count": 53,
      "outputs": []
    },
    {
      "cell_type": "code",
      "metadata": {
        "colab": {
          "base_uri": "https://localhost:8080/"
        },
        "id": "U12pnMB00Q68",
        "outputId": "a7d0ee82-5f4e-4f9c-b7ad-ed22cb9152cd"
      },
      "source": [
        "print(xgbr)\n",
        "\n"
      ],
      "execution_count": 54,
      "outputs": [
        {
          "output_type": "stream",
          "text": [
            "XGBRegressor(base_score=0.5, booster='gbtree', colsample_bylevel=1,\n",
            "             colsample_bynode=1, colsample_bytree=1, gamma=0,\n",
            "             importance_type='gain', learning_rate=0.1, max_delta_step=0,\n",
            "             max_depth=20, min_child_weight=1, missing=None, n_estimators=2000,\n",
            "             n_jobs=1, nthread=None, objective='reg:linear', random_state=0,\n",
            "             reg_alpha=0, reg_lambda=1, scale_pos_weight=1, seed=None,\n",
            "             silent=None, subsample=1, verbosity=0)\n"
          ],
          "name": "stdout"
        }
      ]
    },
    {
      "cell_type": "code",
      "metadata": {
        "colab": {
          "base_uri": "https://localhost:8080/"
        },
        "id": "saBkb2to1tVK",
        "outputId": "035dbfde-39ba-4980-bcf6-f23b191b3e75"
      },
      "source": [
        "score = xgbr.score(X_test, y_test)  \n",
        "print(\"Training score: \", score)"
      ],
      "execution_count": 55,
      "outputs": [
        {
          "output_type": "stream",
          "text": [
            "Training score:  0.47699873324986103\n"
          ],
          "name": "stdout"
        }
      ]
    },
    {
      "cell_type": "code",
      "metadata": {
        "colab": {
          "base_uri": "https://localhost:8080/"
        },
        "id": "P-auJlXw2D8o",
        "outputId": "2fc4e9fe-ca96-49fa-9e4d-fada653be138"
      },
      "source": [
        "print(\"-XGBRegressor -\")\n",
        "print(\"------------------\")\n",
        "\n",
        "#EVAL\n",
        "from sklearn.metrics import mean_squared_error as MSE\n",
        "MSE_test = MSE(y_test, y_pred)\n",
        "\n",
        "print('MSE test:', MSE_test)\n",
        "\n",
        "print()\n",
        "\n",
        "from sklearn.metrics import r2_score\n",
        "from sklearn.metrics import mean_absolute_error as MAE \n",
        "\n",
        "#METRICS: R2, RMSE, MAE\n",
        "R2=r2_score(y_test, y_pred)\n",
        "print('R2: ',R2)\n",
        "RMSE = np.sqrt(MSE_test)\n",
        "print(\"RMSE: \", RMSE)\n",
        "MAE = MAE(y_test, y_pred)\n",
        "print(\"MAE: \", MAE)\n",
        "IM=np.sqrt(((1-R2)**2) + (RMSE**2) + (MAE**2) )\n",
        "print(\"IM: \", IM)\n",
        "print()"
      ],
      "execution_count": 56,
      "outputs": [
        {
          "output_type": "stream",
          "text": [
            "-XGBRegressor -\n",
            "------------------\n",
            "MSE test: 0.7791770387596131\n",
            "\n",
            "R2:  0.4769987332498611\n",
            "RMSE:  0.8827100536187481\n",
            "MAE:  0.714419980613127\n",
            "IM:  1.250241285704933\n",
            "\n"
          ],
          "name": "stdout"
        }
      ]
    },
    {
      "cell_type": "markdown",
      "metadata": {
        "id": "smbOGfJh2nlc"
      },
      "source": [
        "### AdaBoost"
      ]
    },
    {
      "cell_type": "code",
      "metadata": {
        "colab": {
          "base_uri": "https://localhost:8080/"
        },
        "id": "EWa5-7zX2VUE",
        "outputId": "b96a893a-f868-4464-ca05-231d9084851d"
      },
      "source": [
        "from sklearn.ensemble import AdaBoostRegressor\n",
        "\n",
        "print(\" AdaBoost -\")\n",
        "print(\"------------------\")\n",
        "\n",
        "Ada = AdaBoostRegressor(random_state=32, n_estimators=2000)\n",
        "#START TRAINING\n",
        "Ada.fit(X_train,y_train)\n",
        "#PREDICTION\n",
        "y_pred=Ada.predict(X_test)\n",
        "\n",
        "#EVAL\n",
        "from sklearn.metrics import mean_squared_error as MSE\n",
        "MSE_test = MSE(y_test, y_pred)\n",
        "\n",
        "print('MSE test:', MSE_test)\n",
        "\n",
        "print()\n",
        "\n",
        "from sklearn.metrics import r2_score\n",
        "from sklearn.metrics import mean_absolute_error as MAE \n",
        "\n",
        "#METRICS: R2, RMSE, MAE\n",
        "R2=r2_score(y_test, y_pred)\n",
        "print('R2: ',R2)\n",
        "RMSE = np.sqrt(MSE_test)\n",
        "print(\"RMSE: \", RMSE)\n",
        "MAE = MAE(y_test, y_pred)\n",
        "print(\"MAE: \", MAE)\n",
        "IM=np.sqrt(((1-R2)**2) + (RMSE**2) + (MAE**2) )\n",
        "print(\"IM: \", IM)\n",
        "print()"
      ],
      "execution_count": 57,
      "outputs": [
        {
          "output_type": "stream",
          "text": [
            " AdaBoost -\n",
            "------------------\n",
            "MSE test: 0.639899510997719\n",
            "\n",
            "R2:  0.570484962727641\n",
            "RMSE:  0.7999371919080391\n",
            "MAE:  0.6995396362969026\n",
            "IM:  1.1461842700853986\n",
            "\n"
          ],
          "name": "stdout"
        }
      ]
    },
    {
      "cell_type": "markdown",
      "metadata": {
        "id": "obKfFgLjEyPo"
      },
      "source": [
        "### MLP"
      ]
    },
    {
      "cell_type": "code",
      "metadata": {
        "colab": {
          "base_uri": "https://localhost:8080/"
        },
        "id": "OaU1OBfsE1R6",
        "outputId": "9e0463cf-4aa7-43c9-fedd-33e10925542a"
      },
      "source": [
        "from sklearn.neural_network import MLPRegressor\n",
        "\n",
        "MLP = MLPRegressor(hidden_layer_sizes=5,solver='lbfgs',learning_rate='adaptive',activation='relu',random_state=32, max_iter=2000)\n",
        "#MLP = MLPRegressor(hidden_layer_sizes=(1000,1000,1000), activation='relu', solver='adam', max_iter=800)\n",
        "\n",
        "#START TRAINING\n",
        "MLP.fit(X_train,y_train)\n",
        "#PREDICTION\n",
        "y_pred=MLP.predict(X_test)\n",
        "\n",
        "print()\n",
        "\n",
        "from sklearn.metrics import r2_score\n",
        "from sklearn.metrics import mean_absolute_error as MAE \n",
        "\n",
        "#METRICS: R2, RMSE, MAE\n",
        "R2=r2_score(y_test, y_pred)\n",
        "print('R2: ',R2)\n",
        "RMSE = np.sqrt(MSE_test)\n",
        "print(\"RMSE: \", RMSE)\n",
        "MAE = MAE(y_test, y_pred)\n",
        "print(\"MAE: \", MAE)\n",
        "IM=np.sqrt(((1-R2)**2) + (RMSE**2) + (MAE**2) )\n",
        "print(\"IM: \", IM)\n",
        "print()\n"
      ],
      "execution_count": 58,
      "outputs": [
        {
          "output_type": "stream",
          "text": [
            "\n",
            "R2:  0.5300998991665535\n",
            "RMSE:  0.7999371919080391\n",
            "MAE:  0.7263040875828999\n",
            "IM:  1.178228858669075\n",
            "\n"
          ],
          "name": "stdout"
        }
      ]
    },
    {
      "cell_type": "markdown",
      "metadata": {
        "id": "ZOYI1QkauabG"
      },
      "source": [
        "# Comparisson"
      ]
    },
    {
      "cell_type": "code",
      "metadata": {
        "colab": {
          "base_uri": "https://localhost:8080/",
          "height": 411
        },
        "id": "isfDLIFVXXyd",
        "outputId": "352ab3f0-9395-4e7b-c219-498f978a957d"
      },
      "source": [
        "models = [xgbr, Ada, GBR,  GP, MLP, RFR ]\n",
        "labels = ['XGBR', 'AdaBoost', 'GBR',   'GPs',  'MLP', 'RFR']\n",
        "\n",
        "fig = plt.figure()\n",
        "fig.set_size_inches((9,6))\n",
        "\n",
        "for mod, label in zip( models, labels): \n",
        "  y_pred = mod.predict(Xn)\n",
        "  plt.plot(Yn, y_pred, 'o' ,label = label)\n",
        "\n",
        "plt.plot([y_pred.min(), y_pred.max()], [y_pred.min(), y_pred.max()], 'k--')\n",
        "plt.ylabel('Predicted wall width (mm)')\n",
        "plt.xlabel('Measured wall width (mm)')\n",
        "plt.legend()"
      ],
      "execution_count": 62,
      "outputs": [
        {
          "output_type": "execute_result",
          "data": {
            "text/plain": [
              "<matplotlib.legend.Legend at 0x7f44cf9ef3d0>"
            ]
          },
          "metadata": {
            "tags": []
          },
          "execution_count": 62
        },
        {
          "output_type": "display_data",
          "data": {
            "image/png": "[encoded data removed]",
            "text/plain": [
              "<Figure size 648x432 with 1 Axes>"
            ]
          },
          "metadata": {
            "tags": []
          }
        }
      ]
    },
    {
      "cell_type": "markdown",
      "metadata": {
        "id": "vaV3ZE0ctxzA"
      },
      "source": [
        "# CROSS-VALIDATION"
      ]
    },
    {
      "cell_type": "code",
      "metadata": {
        "colab": {
          "base_uri": "https://localhost:8080/"
        },
        "id": "lUE93GSRXjoz",
        "outputId": "92c80191-6e85-4acf-c67b-4cb71c5b98bc"
      },
      "source": [
        "from sklearn.metrics import r2_score\n",
        "from sklearn.metrics import mean_squared_error as MSE\n",
        "from sklearn.metrics import mean_absolute_error \n",
        "from sklearn.model_selection import cross_val_score as CV\n",
        "\n",
        "import warnings\n",
        "warnings.filterwarnings('ignore')\n",
        "\n",
        "models = [xgbr, Ada, GBR,  GP,  MLP, RFR ]\n",
        "labels = ['XGBR', 'AdaBoost', 'GBR',   'GPs',  'MLP', 'RFR']\n",
        "IMS = []\n",
        "\n",
        "print(\"--------------------------------------------------------------\")\n",
        "print(\"%5s | %5s | %5s | %5s | %5s \" % (\"ML algorithm\",  \"CV-R2\", \"CV-MSE\", \"CV-MAE\", \"IM\"))\n",
        "print(\"--------------------------------------------------------------\")\n",
        "\n",
        "for mod, label in zip( models, labels): \n",
        "  y_star_train = mod.predict(X_train)\n",
        " \n",
        "  scoreR2 = CV(mod, X_train, y_train, cv=5, scoring='r2')\n",
        "  #print(-1*scoreR2)\n",
        "  scoreMSE = CV(mod, X_train, y_train, cv=5, scoring='neg_mean_squared_error')\n",
        "  #print(-1*scoreMSE)\n",
        "  scoreMAE = CV(mod, X_train, y_train, cv=5, scoring='neg_mean_absolute_error')\n",
        "  #print(-1*scoreMAE)\n",
        "  IM=np.sqrt(((1-scoreR2)**2) + (scoreMSE) + (scoreMAE**2) )\n",
        "  #print(\"IM: \", IM)\n",
        "  \n",
        " \n",
        "  print(\"%15s | %.4f | %.4f | %.4f | %.4f \" % (label,  scoreR2.mean(), -1*scoreMSE.mean(), -1*scoreMAE.mean() , np.sqrt(((1-scoreR2.mean())**2) + (-1*scoreMSE.mean()) + (scoreMAE.mean()**2) )))\n",
        "print(\"--------------------------------------------------------------\")"
      ],
      "execution_count": 61,
      "outputs": [
        {
          "output_type": "stream",
          "text": [
            "--------------------------------------------------------------\n",
            "ML algorithm | CV-R2 | CV-MSE | CV-MAE |    IM \n",
            "--------------------------------------------------------------\n",
            "           XGBR | 0.0359 | 0.5196 | 0.5450 | 1.3214 \n",
            "       AdaBoost | 0.1784 | 0.4626 | 0.5390 | 1.1951 \n",
            "            GBR | 0.0893 | 0.4995 | 0.5328 | 1.2699 \n",
            "            GPs | -0.3659 | 0.7007 | 0.6449 | 1.7269 \n",
            "            MLP | -0.1991 | 0.6808 | 0.6729 | 1.6035 \n",
            "            RFR | 0.2426 | 0.4261 | 0.5343 | 1.1337 \n",
            "--------------------------------------------------------------\n"
          ],
          "name": "stdout"
        }
      ]
    },
    {
      "cell_type": "code",
      "metadata": {
        "id": "AuCGPfKiQI61"
      },
      "source": [
        ""
      ],
      "execution_count": 61,
      "outputs": []
    }
  ]
}